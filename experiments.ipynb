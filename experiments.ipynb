{
 "cells": [
  {
   "cell_type": "code",
   "execution_count": 25,
   "id": "2089bfdf",
   "metadata": {},
   "outputs": [
    {
     "name": "stdout",
     "output_type": "stream",
     "text": [
      "The autoreload extension is already loaded. To reload it, use:\n",
      "  %reload_ext autoreload\n"
     ]
    }
   ],
   "source": [
    "%load_ext autoreload\n",
    "%autoreload 2"
   ]
  },
  {
   "cell_type": "code",
   "execution_count": 33,
   "id": "6aaab62d",
   "metadata": {},
   "outputs": [],
   "source": [
    "import torch\n",
    "from bsd_dataset import get_dataset, regions, DatasetRequest"
   ]
  },
  {
   "cell_type": "code",
   "execution_count": 34,
   "id": "694e2b39",
   "metadata": {},
   "outputs": [
    {
     "name": "stdout",
     "output_type": "stream",
     "text": [
      "8\n"
     ]
    }
   ],
   "source": [
    "if torch.cuda.is_available():\n",
    "    print(torch.cuda.device_count())"
   ]
  },
  {
   "cell_type": "markdown",
   "id": "25edd17b",
   "metadata": {},
   "source": [
    "# Experiment Settings\n",
    "\n",
    "All latitudes and longitudes are provided as **unnormalized**. See the bottom of this notebook for details.\n",
    "\n",
    "✅ = ready to use. ❌ = work in progress.\n",
    "\n",
    "## All experiments\n",
    "- Training period: 1983 - 2010.\n",
    "- Validation period: 2011 - 2012.\n",
    "- Testing period: 2013-2014.\n",
    "\n",
    "## Experiment 0: Default (CHIRPS target)\n",
    "\n",
    "**Experiment 0.1** ✅\n",
    "- Train/val/test region: South America\n",
    "- Input\n",
    "    - Low-res precipitation, latitude, longitude (source: CMIP6, GFDL-ESM4)\n",
    "- Target\n",
    "    - Hi-res precipitation, latitude, longitude (source: CHIRPS, 0.25 deg res)\n",
    "\n",
    "**Experiment 0.2** ❌\n",
    "- Train/val/test region: Europe\n",
    "- Input\n",
    "    - Low-res precipitation, latitude, longitude (source: CMIP6, GFDL-ESM4)\n",
    "- Target\n",
    "    - Hi-res precipitation, latitude, longitude (source: CHIRPS, 0.25 deg res)\n",
    "\n",
    "## Experiment 2: PERSIANN-CDR target\n",
    "\n",
    "**Experiment 2.1** ✅\n",
    "- Train/val/test region: South America\n",
    "- Input\n",
    "    - Low-res precipitation, latitude, longitude (source: CMIP6, GFDL-ESM4)\n",
    "- Target \n",
    "    - Hi-res precipitation, latitude, longitude (source: PERSIANN-CDR)\n",
    "    \n",
    "**Experiment 2.2** ❌\n",
    "- Train/val/test region: Europe\n",
    "- Input\n",
    "    - Low-res precipitation, latitude, longitude (source: CMIP6, GFDL-ESM4)\n",
    "- Target \n",
    "    - Hi-res precipitation, latitude, longitude (source: PERSIANN-CDR)"
   ]
  },
  {
   "cell_type": "code",
   "execution_count": 35,
   "id": "e0378565",
   "metadata": {},
   "outputs": [],
   "source": [
    "### CHANGE ME! ###\n",
    "experiment = 0.1"
   ]
  },
  {
   "cell_type": "code",
   "execution_count": 40,
   "id": "ce155a0f",
   "metadata": {},
   "outputs": [],
   "source": [
    "root = f'/home/data/BSDD/experiment-{experiment}'\n",
    "exp_maj, exp_min = divmod(experiment * 10, 10)\n",
    "\n",
    "if exp_maj == 0:\n",
    "    input_datasets = [\n",
    "        DatasetRequest(\n",
    "            dataset='projections-cmip6',\n",
    "            model='gfdl_esm4',\n",
    "            variable='precipitation',\n",
    "        )\n",
    "    ]\n",
    "    target_dataset = DatasetRequest(dataset='chirps', resolution=0.25)\n",
    "    \n",
    "    if exp_min == 1:\n",
    "        train_region = regions.SouthAmerica\n",
    "        val_region = regions.SouthAmerica\n",
    "        test_region = regions.SouthAmerica\n",
    "        \n",
    "    if exp_min == 2:\n",
    "        train_region = regions.Europe\n",
    "        val_region = regions.Europe\n",
    "        test_region = regions.Europe    \n",
    "    \n",
    "if exp_maj == 2:\n",
    "    input_datasets = [\n",
    "        DatasetRequest(\n",
    "            dataset='projections-cmip6',\n",
    "            model='gfdl_esm4',\n",
    "            variable='precipitation',\n",
    "        )\n",
    "    ]\n",
    "    target_dataset = DatasetRequest(dataset='persiann-cdr')\n",
    "    \n",
    "    if exp_min == 1:\n",
    "        train_region = regions.SouthAmerica\n",
    "        val_region = regions.SouthAmerica\n",
    "        test_region = regions.SouthAmerica\n",
    "        \n",
    "    if exp_min == 2:\n",
    "        train_region = regions.Europe\n",
    "        val_region = regions.Europe\n",
    "        test_region = regions.Europe"
   ]
  },
  {
   "cell_type": "code",
   "execution_count": 41,
   "id": "c803c45f",
   "metadata": {
    "scrolled": true
   },
   "outputs": [],
   "source": [
    "dataset = get_dataset(\n",
    "    input_datasets,\n",
    "    target_dataset,\n",
    "    train_region=train_region,\n",
    "    val_region=val_region,\n",
    "    test_region=test_region,\n",
    "    train_dates=('1983-01-01', '2010-12-31'),\n",
    "    val_dates=('2011-01-01', '2012-12-31'),\n",
    "    test_dates=('2013-01-01', '2014-12-31'),\n",
    "    download=False,\n",
    "    extract=False, \n",
    "    root=root,\n",
    "    device='cuda:0'\n",
    ")"
   ]
  },
  {
   "cell_type": "code",
   "execution_count": 42,
   "id": "8fde2c1f",
   "metadata": {},
   "outputs": [],
   "source": [
    "train_dataset = dataset.get_split('train')\n",
    "val_dataset = dataset.get_split('val')\n",
    "test_dataset = dataset.get_split('test')"
   ]
  },
  {
   "cell_type": "code",
   "execution_count": 43,
   "id": "b2ba4395",
   "metadata": {
    "scrolled": true
   },
   "outputs": [
    {
     "name": "stdout",
     "output_type": "stream",
     "text": [
      "Training samples: 10220\n",
      "Validation samples: 730\n",
      "Testing samples: 730\n"
     ]
    }
   ],
   "source": [
    "print(f'Training samples: {len(train_dataset)}')\n",
    "print(f'Validation samples: {len(val_dataset)}')\n",
    "print(f'Testing samples: {len(test_dataset)}')"
   ]
  },
  {
   "cell_type": "markdown",
   "id": "5eac7c43",
   "metadata": {},
   "source": [
    "All tensors are latitude by longitude."
   ]
  },
  {
   "cell_type": "code",
   "execution_count": 10,
   "id": "cda5960f",
   "metadata": {},
   "outputs": [
    {
     "name": "stdout",
     "output_type": "stream",
     "text": [
      "Input shape: torch.Size([1, 75, 48]) (cuda:0)\n",
      "Target shape: torch.Size([240, 300]) (cuda:0)\n"
     ]
    }
   ],
   "source": [
    "x, y, info = train_dataset[0]\n",
    "\n",
    "print(f'Input shape: {x.shape} ({x.device})')\n",
    "print(f'Target shape: {y.shape} ({x.device})')"
   ]
  },
  {
   "cell_type": "code",
   "execution_count": 11,
   "id": "174e82f9",
   "metadata": {},
   "outputs": [
    {
     "name": "stdout",
     "output_type": "stream",
     "text": [
      "INFO SUMMARY\n",
      " - x_lat shape: torch.Size([75, 48]) (cuda:0)\n",
      " - x_lon shape: torch.Size([75, 48]) (cuda:0)\n",
      " - y_lat shape: torch.Size([75, 48]) (cuda:0)\n",
      " - y_lon shape: torch.Size([75, 48]) (cuda:0)\n",
      " - y_mask shape: torch.Size([240, 300]) (cuda:0)\n"
     ]
    }
   ],
   "source": [
    "print('INFO SUMMARY')\n",
    "for k, v in info.items():\n",
    "    print(f' - {k} shape: {v.shape} ({v.device})')"
   ]
  },
  {
   "cell_type": "markdown",
   "id": "a60777e7",
   "metadata": {},
   "source": [
    "Latitudes and longitudes are provided as unnormalized. Latitudes are in the range \\[-90, 90\\], and longitudes are in the range \\[0, 360\\]. At the end are functions to perform normalization (I will eventually migrate this into the dataset itself)."
   ]
  },
  {
   "cell_type": "code",
   "execution_count": 12,
   "id": "9458d791",
   "metadata": {},
   "outputs": [
    {
     "data": {
      "text/plain": [
       "tensor([[-54.5000, -54.5000, -54.5000,  ..., -54.5000, -54.5000, -54.5000],\n",
       "        [-53.5000, -53.5000, -53.5000,  ..., -53.5000, -53.5000, -53.5000],\n",
       "        [-52.5000, -52.5000, -52.5000,  ..., -52.5000, -52.5000, -52.5000],\n",
       "        ...,\n",
       "        [ 17.5000,  17.5000,  17.5000,  ...,  17.5000,  17.5000,  17.5000],\n",
       "        [ 18.5000,  18.5000,  18.5000,  ...,  18.5000,  18.5000,  18.5000],\n",
       "        [ 19.5000,  19.5000,  19.5000,  ...,  19.5000,  19.5000,  19.5000]],\n",
       "       device='cuda:0', dtype=torch.float64)"
      ]
     },
     "execution_count": 12,
     "metadata": {},
     "output_type": "execute_result"
    }
   ],
   "source": [
    "info['x_lat']"
   ]
  },
  {
   "cell_type": "code",
   "execution_count": 13,
   "id": "c9a903e9",
   "metadata": {},
   "outputs": [
    {
     "data": {
      "text/plain": [
       "tensor([[ 90.6250,  91.8750,  93.1250,  ..., 146.8750, 148.1250, 149.3750],\n",
       "        [ 90.6250,  91.8750,  93.1250,  ..., 146.8750, 148.1250, 149.3750],\n",
       "        [ 90.6250,  91.8750,  93.1250,  ..., 146.8750, 148.1250, 149.3750],\n",
       "        ...,\n",
       "        [ 90.6250,  91.8750,  93.1250,  ..., 146.8750, 148.1250, 149.3750],\n",
       "        [ 90.6250,  91.8750,  93.1250,  ..., 146.8750, 148.1250, 149.3750],\n",
       "        [ 90.6250,  91.8750,  93.1250,  ..., 146.8750, 148.1250, 149.3750]],\n",
       "       device='cuda:0', dtype=torch.float64)"
      ]
     },
     "execution_count": 13,
     "metadata": {},
     "output_type": "execute_result"
    }
   ],
   "source": [
    "info['x_lon']"
   ]
  },
  {
   "cell_type": "code",
   "execution_count": 14,
   "id": "adf56555",
   "metadata": {},
   "outputs": [],
   "source": [
    "def normalize_latitudes(lats):\n",
    "    # Converts from the range [-90, 90] to [0, 1]\n",
    "    return (lats + 90) / 180\n",
    "\n",
    "def normalize_longitudes(lons):\n",
    "    # Converts from the range [-180, 180] to [0, 1]\n",
    "    return (lons + 180) / 360"
   ]
  },
  {
   "cell_type": "code",
   "execution_count": 15,
   "id": "e0d0199b",
   "metadata": {},
   "outputs": [
    {
     "data": {
      "text/plain": [
       "tensor([[0.1972, 0.1972, 0.1972,  ..., 0.1972, 0.1972, 0.1972],\n",
       "        [0.2028, 0.2028, 0.2028,  ..., 0.2028, 0.2028, 0.2028],\n",
       "        [0.2083, 0.2083, 0.2083,  ..., 0.2083, 0.2083, 0.2083],\n",
       "        ...,\n",
       "        [0.5972, 0.5972, 0.5972,  ..., 0.5972, 0.5972, 0.5972],\n",
       "        [0.6028, 0.6028, 0.6028,  ..., 0.6028, 0.6028, 0.6028],\n",
       "        [0.6083, 0.6083, 0.6083,  ..., 0.6083, 0.6083, 0.6083]],\n",
       "       device='cuda:0', dtype=torch.float64)"
      ]
     },
     "execution_count": 15,
     "metadata": {},
     "output_type": "execute_result"
    }
   ],
   "source": [
    "normalize_latitudes(info['x_lat'])"
   ]
  },
  {
   "cell_type": "code",
   "execution_count": 16,
   "id": "f5361634",
   "metadata": {},
   "outputs": [
    {
     "data": {
      "text/plain": [
       "tensor([[0.7517, 0.7552, 0.7587,  ..., 0.9080, 0.9115, 0.9149],\n",
       "        [0.7517, 0.7552, 0.7587,  ..., 0.9080, 0.9115, 0.9149],\n",
       "        [0.7517, 0.7552, 0.7587,  ..., 0.9080, 0.9115, 0.9149],\n",
       "        ...,\n",
       "        [0.7517, 0.7552, 0.7587,  ..., 0.9080, 0.9115, 0.9149],\n",
       "        [0.7517, 0.7552, 0.7587,  ..., 0.9080, 0.9115, 0.9149],\n",
       "        [0.7517, 0.7552, 0.7587,  ..., 0.9080, 0.9115, 0.9149]],\n",
       "       device='cuda:0', dtype=torch.float64)"
      ]
     },
     "execution_count": 16,
     "metadata": {},
     "output_type": "execute_result"
    }
   ],
   "source": [
    "normalize_longitudes(info['x_lon'])"
   ]
  },
  {
   "cell_type": "code",
   "execution_count": null,
   "id": "8080f895",
   "metadata": {},
   "outputs": [],
   "source": []
  }
 ],
 "metadata": {
  "kernelspec": {
   "display_name": "Python (downscale-gpu)",
   "language": "python",
   "name": "downscale-gpu"
  },
  "language_info": {
   "codemirror_mode": {
    "name": "ipython",
    "version": 3
   },
   "file_extension": ".py",
   "mimetype": "text/x-python",
   "name": "python",
   "nbconvert_exporter": "python",
   "pygments_lexer": "ipython3",
   "version": "3.9.12"
  }
 },
 "nbformat": 4,
 "nbformat_minor": 5
}
