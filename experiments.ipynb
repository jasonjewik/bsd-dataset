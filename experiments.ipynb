{
 "cells": [
  {
   "cell_type": "code",
   "execution_count": 1,
   "id": "2089bfdf",
   "metadata": {},
   "outputs": [],
   "source": [
    "%load_ext autoreload\n",
    "%autoreload 2"
   ]
  },
  {
   "cell_type": "code",
   "execution_count": 2,
   "id": "6aaab62d",
   "metadata": {},
   "outputs": [
    {
     "name": "stderr",
     "output_type": "stream",
     "text": [
      "/home/jason.jewik/miniconda3/envs/downscale-gpu/lib/python3.9/site-packages/tqdm/auto.py:22: TqdmWarning: IProgress not found. Please update jupyter and ipywidgets. See https://ipywidgets.readthedocs.io/en/stable/user_install.html\n",
      "  from .autonotebook import tqdm as notebook_tqdm\n"
     ]
    }
   ],
   "source": [
    "import torch\n",
    "from bsd_dataset import get_dataset, regions, DatasetRequest\n",
    "import bsd_dataset.common.transforms as transforms"
   ]
  },
  {
   "cell_type": "code",
   "execution_count": 3,
   "id": "694e2b39",
   "metadata": {},
   "outputs": [
    {
     "name": "stdout",
     "output_type": "stream",
     "text": [
      "8\n"
     ]
    }
   ],
   "source": [
    "if torch.cuda.is_available():\n",
    "    print(torch.cuda.device_count())"
   ]
  },
  {
   "cell_type": "markdown",
   "id": "25edd17b",
   "metadata": {},
   "source": [
    "# Experiment Settings\n",
    "\n",
    "All latitudes and longitudes are provided as **unnormalized**. See the bottom of this notebook for details.\n",
    "\n",
    "✅ = ready to use. ❌ = work in progress.\n",
    "\n",
    "## All experiments\n",
    "- Training period: 1983 - 2010.\n",
    "- Validation period: 2011 - 2012.\n",
    "- Testing period: 2013-2014.\n",
    "\n",
    "## Experiment 0: Default (CHIRPS target)\n",
    "\n",
    "**Experiment 0.1** ✅\n",
    "- Train/val/test region: South America\n",
    "- Input (source: CMIP6, GFDL-ESM4)\n",
    "    - Max near-surface air temp\n",
    "    - Min near-surface air temp\n",
    "    - Near-surface air temp\n",
    "    - Near-surface specific humidity\n",
    "    - Near-surface wind speed\n",
    "    - Precipitation\n",
    "    - Sea level pressure\n",
    "    - Latitude and longitude are also available\n",
    "- Target (source: CHIRPS, 0.25 deg res)\n",
    "    - Hi-res precipitation\n",
    "    - Latitude and longitude are also available\n",
    "\n",
    "**Experiment 0.2** ✅\n",
    "- Train/val/test region: Europe\n",
    "- Input (source: CMIP6, GFDL-ESM4)\n",
    "    - Max near-surface air temp\n",
    "    - Min near-surface air temp\n",
    "    - Near-surface air temp\n",
    "    - Near-surface specific humidity\n",
    "    - Near-surface wind speed\n",
    "    - Precipitation\n",
    "    - Sea level pressure\n",
    "    - Latitude and longitude are also available\n",
    "- Target (source: CHIRPS, 0.25 deg res)\n",
    "    - Hi-res precipitation\n",
    "    - Latitude and longitude are also available\n",
    "    \n",
    "## Experiment 1: Multiple input sources (same resolution)\n",
    "\n",
    "**Experiment 1.1** ✅\n",
    "- Train/val/test region: South America\n",
    "- Input (source: CMIP6, GFDL-ESM4 & FGOALS-f3-L)\n",
    "    - Max near-surface air temp\n",
    "    - Min near-surface air temp\n",
    "    - Near-surface air temp\n",
    "    - Near-surface specific humidity\n",
    "    - Near-surface wind speed\n",
    "    - Precipitation\n",
    "    - Sea level pressure\n",
    "    - Latitude and longitude are also available\n",
    "- Target\n",
    "    - Hi-res precipitation, latitude, longitude (source: CHIRPS, 0.25 deg res)\n",
    "    \n",
    "**Experiment 1.2** ✅\n",
    "- Train/val/test region: Europe\n",
    "- Input (source: CMIP6, GFDL-ESM4 & FGOALS-f3-L)\n",
    "    - Max near-surface air temp\n",
    "    - Min near-surface air temp\n",
    "    - Near-surface air temp\n",
    "    - Near-surface specific humidity\n",
    "    - Near-surface wind speed\n",
    "    - Precipitation\n",
    "    - Sea level pressure\n",
    "    - Latitude and longitude are also available\n",
    "- Target\n",
    "    - Hi-res precipitation, latitude, longitude (source: CHIRPS, 0.25 deg res)\n",
    "\n",
    "## Experiment 2: PERSIANN-CDR target\n",
    "\n",
    "**Experiment 2.1** ✅\n",
    "- Train/val/test region: South America\n",
    "- Input (source: CMIP6, GFDL-ESM4)\n",
    "    - Max near-surface air temp\n",
    "    - Min near-surface air temp\n",
    "    - Near-surface air temp\n",
    "    - Near-surface specific humidity\n",
    "    - Near-surface wind speed\n",
    "    - Precipitation\n",
    "    - Sea level pressure\n",
    "    - Latitude and longitude are also available\n",
    "- Target (source: PERSIANN-CDR)\n",
    "    - Hi-res precipitation\n",
    "    - Latitude and longitude are also available\n",
    "    \n",
    "**Experiment 2.2** ✅\n",
    "- Train/val/test region: Europe\n",
    "- Input (source: CMIP6, GFDL-ESM4)\n",
    "    - Max near-surface air temp\n",
    "    - Min near-surface air temp\n",
    "    - Near-surface air temp\n",
    "    - Near-surface specific humidity\n",
    "    - Near-surface wind speed\n",
    "    - Precipitation\n",
    "    - Sea level pressure\n",
    "    - Latitude and longitude are also available\n",
    "- Target (source: PERSIANN-CDR)\n",
    "    - Hi-res precipitation\n",
    "    - Latitude and longitude are also available\n",
    "    \n",
    "## Experiment 3: Distribution shift across geographies\n",
    "\n",
    "**Experiment 3.1** ✅\n",
    "- Train/val region: South America\n",
    "- Test region: Europe\n",
    "- Input (source: CMIP6, GFDL-ESM4)\n",
    "    - Max near-surface air temp\n",
    "    - Min near-surface air temp\n",
    "    - Near-surface air temp\n",
    "    - Near-surface specific humidity\n",
    "    - Near-surface wind speed\n",
    "    - Precipitation\n",
    "    - Sea level pressure\n",
    "    - Latitude and longitude are also available\n",
    "- Target (source: CHIRPS, 0.25 deg res)\n",
    "    - Hi-res precipitation\n",
    "    - Latitude and longitude are also available\n",
    "    \n",
    "**Experiment 3.2** ✅\n",
    "- Train/val region: Europe\n",
    "- Test region: South America\n",
    "- Input (source: CMIP6, GFDL-ESM4)\n",
    "    - Max near-surface air temp\n",
    "    - Min near-surface air temp\n",
    "    - Near-surface air temp\n",
    "    - Near-surface specific humidity\n",
    "    - Near-surface wind speed\n",
    "    - Precipitation\n",
    "    - Sea level pressure\n",
    "    - Latitude and longitude are also available\n",
    "- Target (source: CHIRPS, 0.25 deg res)\n",
    "    - Hi-res precipitation\n",
    "    - Latitude and longitude are also available\n",
    "   \n",
    "## Experiment 4: Lower input resolution\n",
    "**Experiment 4.1** ✅\n",
    "- Train/val/test region: South America\n",
    "- Input (source: CMIP6, MPI-ESM1-2-LR)\n",
    "    - Max near-surface air temp\n",
    "    - Min near-surface air temp\n",
    "    - Near-surface air temp\n",
    "    - Near-surface specific humidity\n",
    "    - Near-surface wind speed\n",
    "    - Precipitation\n",
    "    - Sea level pressure\n",
    "    - Latitude and longitude are also available\n",
    "- Target (source: CHIRPS, 0.25 deg res)\n",
    "    - Hi-res precipitation\n",
    "    - Latitude and longitude are also available\n",
    "    \n",
    "**Experiment 4.2** ✅\n",
    "- Train/val/test region: Europe\n",
    "- Input (source: CMIP6, MPI-ESM1-2-LR)\n",
    "    - Max near-surface air temp\n",
    "    - Min near-surface air temp\n",
    "    - Near-surface air temp\n",
    "    - Near-surface specific humidity\n",
    "    - Near-surface wind speed\n",
    "    - Precipitation\n",
    "    - Sea level pressure\n",
    "    - Latitude and longitude are also available\n",
    "- Target (source: CHIRPS, 0.25 deg res)\n",
    "    - Hi-res precipitation\n",
    "    - Latitude and longitude are also available\n",
    "    \n",
    "## Experiment 5: Higher input resolution\n",
    "**Experiment 5.1** ✅\n",
    "- Train/val/test region: South America\n",
    "- Input (source: CMIP6, CNRM-CM6-1-HR)\n",
    "    - Max near-surface air temp\n",
    "    - Min near-surface air temp\n",
    "    - Near-surface air temp\n",
    "    - Near-surface specific humidity\n",
    "    - Near-surface wind speed\n",
    "    - Precipitation\n",
    "    - Sea level pressure\n",
    "    - Latitude and longitude are also available\n",
    "- Target (source: CHIRPS, 0.25 deg res)\n",
    "    - Hi-res precipitation\n",
    "    - Latitude and longitude are also available\n",
    "    \n",
    "**Experiment 5.2** ✅\n",
    "- Train/val/test region: Europe\n",
    "- Input (source: CMIP6, CNRM-CM6-1-HR)\n",
    "    - Max near-surface air temp\n",
    "    - Min near-surface air temp\n",
    "    - Near-surface air temp\n",
    "    - Near-surface specific humidity\n",
    "    - Near-surface wind speed\n",
    "    - Precipitation\n",
    "    - Sea level pressure\n",
    "    - Latitude and longitude are also available\n",
    "- Target (source: CHIRPS, 0.25 deg res)\n",
    "    - Hi-res precipitation\n",
    "    - Latitude and longitude are also available"
   ]
  },
  {
   "cell_type": "code",
   "execution_count": 4,
   "id": "e0378565",
   "metadata": {},
   "outputs": [],
   "source": [
    "### CHANGE ME! ###\n",
    "experiment = 1.1"
   ]
  },
  {
   "cell_type": "code",
   "execution_count": 5,
   "id": "ce155a0f",
   "metadata": {},
   "outputs": [],
   "source": [
    "exp_maj, exp_min = divmod(experiment * 10, 10)\n",
    "\n",
    "root = f'/home/data/BSDD/experiment-{experiment}'\n",
    "variable = [\n",
    "    'daily_maximum_near_surface_air_temperature',\n",
    "    'daily_minimum_near_surface_air_temperature',\n",
    "    'near_surface_air_temperature',\n",
    "    'near_surface_specific_humidity',\n",
    "    'near_surface_wind_speed',\n",
    "    'precipitation',\n",
    "    'sea_level_pressure'\n",
    "]\n",
    "\n",
    "if exp_maj == 0:\n",
    "    input_datasets = [\n",
    "        DatasetRequest(\n",
    "            dataset='projections-cmip6',\n",
    "            model='gfdl_esm4',\n",
    "            variable=variable\n",
    "        )\n",
    "    ]\n",
    "    target_dataset = DatasetRequest(dataset='chirps', resolution=0.25)\n",
    "    \n",
    "    if exp_min == 1:\n",
    "        train_region = regions.SouthAmerica\n",
    "        val_region = regions.SouthAmerica\n",
    "        test_region = regions.SouthAmerica\n",
    "        \n",
    "    if exp_min == 2:\n",
    "        train_region = regions.Europe\n",
    "        val_region = regions.Europe\n",
    "        test_region = regions.Europe\n",
    "        \n",
    "if exp_maj == 1:\n",
    "    input_datasets = [\n",
    "        DatasetRequest(\n",
    "            dataset='projections-cmip6',\n",
    "            model='gfdl_esm4',\n",
    "            variable=variable\n",
    "        ),\n",
    "        DatasetRequest(\n",
    "            dataset='projections-cmip6',\n",
    "            model='fgoals_f3_l',\n",
    "            variable=variable\n",
    "        )\n",
    "    ]\n",
    "    target_dataset = DatasetRequest(dataset='chirps', resolution=0.25)\n",
    "    \n",
    "    if exp_min == 1:\n",
    "        train_region = regions.SouthAmerica\n",
    "        val_region = regions.SouthAmerica\n",
    "        test_region = regions.SouthAmerica\n",
    "        \n",
    "    if exp_min == 2:\n",
    "        train_region = regions.Europe\n",
    "        val_region = regions.Europe\n",
    "        test_region = regions.Europe\n",
    "    \n",
    "if exp_maj == 1:\n",
    "    input_datasets = [\n",
    "        DatasetRequest(\n",
    "            dataset='projections-cmip6',\n",
    "            model='gfdl_esm4',\n",
    "            variable=variable\n",
    "        ),\n",
    "        DatasetRequest(\n",
    "            dataset='projections-cmip6',\n",
    "            model='fgoals_f3_l',\n",
    "            variable=variable\n",
    "        )\n",
    "    ]\n",
    "    target_dataset = DatasetRequest(dataset='chirps', resolution=0.25)\n",
    "    \n",
    "    if exp_min == 1:\n",
    "        train_region = regions.SouthAmerica\n",
    "        val_region = regions.SouthAmerica\n",
    "        test_region = regions.SouthAmerica\n",
    "        \n",
    "    if exp_min == 2:\n",
    "        train_region = regions.Europe\n",
    "        val_region = regions.Europe\n",
    "        test_region = regions.Europe\n",
    "    \n",
    "if exp_maj == 2:\n",
    "    input_datasets = [\n",
    "        DatasetRequest(\n",
    "            dataset='projections-cmip6',\n",
    "            model='gfdl_esm4',\n",
    "            variable=variable\n",
    "        )\n",
    "    ]\n",
    "    target_dataset = DatasetRequest(dataset='persiann-cdr')\n",
    "    \n",
    "    if exp_min == 1:\n",
    "        train_region = regions.SouthAmerica\n",
    "        val_region = regions.SouthAmerica\n",
    "        test_region = regions.SouthAmerica\n",
    "        \n",
    "    if exp_min == 2:\n",
    "        train_region = regions.Europe\n",
    "        val_region = regions.Europe\n",
    "        test_region = regions.Europe\n",
    "        \n",
    "if exp_maj == 3:\n",
    "    input_datasets = [\n",
    "        DatasetRequest(\n",
    "            dataset='projections-cmip6',\n",
    "            model='gfdl_esm4',\n",
    "            variable=variable\n",
    "        )\n",
    "    ]\n",
    "    target_dataset = DatasetRequest(dataset='chirps', resolution=0.25)\n",
    "    \n",
    "    if exp_min == 1:\n",
    "        train_region = regions.SouthAmerica\n",
    "        val_region = regions.SouthAmerica\n",
    "        test_region = regions.Europe\n",
    "        \n",
    "    if exp_min == 2:\n",
    "        train_region = regions.Europe\n",
    "        val_region = regions.Europe\n",
    "        test_region = regions.SouthAmerica\n",
    "        \n",
    "if exp_maj == 4:\n",
    "    input_datasets = [\n",
    "        DatasetRequest(\n",
    "            dataset='projections-cmip6',\n",
    "            model='mpi_esm1_2_lr',\n",
    "            variable=variable\n",
    "        )\n",
    "    ]\n",
    "    target_dataset = DatasetRequest(dataset='chirps', resolution=0.25)\n",
    "    \n",
    "    if exp_min == 1:\n",
    "        train_region = regions.SouthAmerica\n",
    "        val_region = regions.SouthAmerica\n",
    "        test_region = regions.SouthAmerica\n",
    "        \n",
    "    if exp_min == 2:\n",
    "        train_region = regions.Europe\n",
    "        val_region = regions.Europe\n",
    "        test_region = regions.Europe\n",
    "\n",
    "if exp_maj == 5:\n",
    "    input_datasets = [\n",
    "        DatasetRequest(\n",
    "            dataset='projections-cmip6',\n",
    "            model='cnrm_cm6_1_hr',\n",
    "            variable=variable\n",
    "        )\n",
    "    ]\n",
    "    target_dataset = DatasetRequest(dataset='chirps', resolution=0.25)\n",
    "    \n",
    "    if exp_min == 1:\n",
    "        train_region = regions.SouthAmerica\n",
    "        val_region = regions.SouthAmerica\n",
    "        test_region = regions.SouthAmerica\n",
    "        \n",
    "    if exp_min == 2:\n",
    "        train_region = regions.Europe\n",
    "        val_region = regions.Europe\n",
    "        test_region = regions.Europe"
   ]
  },
  {
   "cell_type": "code",
   "execution_count": 6,
   "id": "c803c45f",
   "metadata": {
    "scrolled": true
   },
   "outputs": [],
   "source": [
    "dataset = get_dataset(\n",
    "    input_datasets,\n",
    "    target_dataset,\n",
    "    train_region=train_region,\n",
    "    val_region=val_region,\n",
    "    test_region=test_region,\n",
    "    train_dates=('1983-01-01', '2010-12-31'),\n",
    "    val_dates=('2011-01-01', '2012-12-31'),\n",
    "    test_dates=('2013-01-01', '2014-12-31'),\n",
    "    download=False,\n",
    "    extract=False, \n",
    "    root=root,\n",
    "    device='cuda:1'\n",
    ")"
   ]
  },
  {
   "cell_type": "code",
   "execution_count": 7,
   "id": "145df082",
   "metadata": {},
   "outputs": [],
   "source": [
    "transform = transforms.Compose([\n",
    "    # in CDS, precipitation's variable name is \"pr\"\n",
    "    transforms.ConvertPrecipitation(var_name='pr'),\n",
    "    transforms.LogTransformPrecipitation(var_name='pr', eps=0.1)\n",
    "])\n",
    "\n",
    "# don't specify var name for target because it is a 2D tensor (all precipitation, no channels)\n",
    "target_transform = transforms.LogTransformPrecipitation(eps=0.1)"
   ]
  },
  {
   "cell_type": "code",
   "execution_count": 8,
   "id": "8fde2c1f",
   "metadata": {},
   "outputs": [],
   "source": [
    "train_dataset = dataset.get_split('train', transform, target_transform)\n",
    "val_dataset = dataset.get_split('val', transform, target_transform)\n",
    "test_dataset = dataset.get_split('test', transform, target_transform)"
   ]
  },
  {
   "cell_type": "code",
   "execution_count": 9,
   "id": "b2ba4395",
   "metadata": {
    "scrolled": true
   },
   "outputs": [
    {
     "name": "stdout",
     "output_type": "stream",
     "text": [
      "Training samples: 10220\n",
      "Validation samples: 730\n",
      "Testing samples: 730\n"
     ]
    }
   ],
   "source": [
    "print(f'Training samples: {len(train_dataset)}')\n",
    "print(f'Validation samples: {len(val_dataset)}')\n",
    "print(f'Testing samples: {len(test_dataset)}')"
   ]
  },
  {
   "cell_type": "markdown",
   "id": "5eac7c43",
   "metadata": {},
   "source": [
    "All tensors are latitude by longitude."
   ]
  },
  {
   "cell_type": "markdown",
   "id": "e55e0f35",
   "metadata": {},
   "source": [
    "## Training Data\n",
    "Validation data is the same shape, even for experiment 1."
   ]
  },
  {
   "cell_type": "code",
   "execution_count": 10,
   "id": "cda5960f",
   "metadata": {},
   "outputs": [
    {
     "name": "stdout",
     "output_type": "stream",
     "text": [
      "Input shape: torch.Size([14, 70, 48]) (cuda:1)\n",
      "Target shape: torch.Size([280, 240]) (cuda:1)\n"
     ]
    }
   ],
   "source": [
    "x, y, info = train_dataset[0]\n",
    "print(f'Input shape: {x.shape} ({x.device})')\n",
    "print(f'Target shape: {y.shape} ({x.device})')"
   ]
  },
  {
   "cell_type": "code",
   "execution_count": 11,
   "id": "174e82f9",
   "metadata": {},
   "outputs": [
    {
     "name": "stdout",
     "output_type": "stream",
     "text": [
      "INFO SUMMARY\n",
      " - x_lat shape: torch.Size([70, 48]) (cuda:1)\n",
      " - x_lon shape: torch.Size([70, 48]) (cuda:1)\n",
      " - y_lat shape: torch.Size([280, 240]) (cuda:1)\n",
      " - y_lon shape: torch.Size([280, 240]) (cuda:1)\n",
      " - y_mask shape: torch.Size([280, 240]) (cuda:1)\n",
      " - channels: ['gfdl_esm4:tasmax:data', 'gfdl_esm4:tasmin:data', 'gfdl_esm4:tas:data', 'gfdl_esm4:huss:data', 'gfdl_esm4:sfcWind:data', 'gfdl_esm4:pr:data', 'gfdl_esm4:psl:data', 'fgoals_f3_l:tasmax:data', 'fgoals_f3_l:tasmin:data', 'fgoals_f3_l:tas:data', 'fgoals_f3_l:huss:data', 'fgoals_f3_l:sfcWind:data', 'fgoals_f3_l:pr:data', 'fgoals_f3_l:psl:data']\n"
     ]
    }
   ],
   "source": [
    "print('INFO SUMMARY')\n",
    "for k, v in info.items():\n",
    "    if type(v) == torch.Tensor:\n",
    "        print(f' - {k} shape: {v.shape} ({v.device})')\n",
    "    else:\n",
    "        print(f' - {k}: {v}')"
   ]
  },
  {
   "cell_type": "markdown",
   "id": "8d9507b0",
   "metadata": {},
   "source": [
    "## Testing Data\n",
    "Generally the same shape as the training and validation data, except in experiment 1."
   ]
  },
  {
   "cell_type": "code",
   "execution_count": 32,
   "id": "6b4a354e",
   "metadata": {},
   "outputs": [
    {
     "name": "stdout",
     "output_type": "stream",
     "text": [
      "Input shape: torch.Size([7, 20, 40]) (cuda:1)\n",
      "Target shape: torch.Size([80, 200]) (cuda:1)\n"
     ]
    }
   ],
   "source": [
    "x, y, info = test_dataset[0]\n",
    "print(f'Input shape: {x.shape} ({x.device})')\n",
    "print(f'Target shape: {y.shape} ({x.device})')"
   ]
  },
  {
   "cell_type": "code",
   "execution_count": 33,
   "id": "4ca2b550",
   "metadata": {},
   "outputs": [
    {
     "name": "stdout",
     "output_type": "stream",
     "text": [
      "INFO SUMMARY\n",
      " - x_lat shape: torch.Size([20, 40]) (cuda:1)\n",
      " - x_lon shape: torch.Size([20, 40]) (cuda:1)\n",
      " - y_lat shape: torch.Size([80, 200]) (cuda:1)\n",
      " - y_lon shape: torch.Size([80, 200]) (cuda:1)\n",
      " - y_mask shape: torch.Size([80, 200]) (cuda:1)\n"
     ]
    }
   ],
   "source": [
    "print('INFO SUMMARY')\n",
    "for k, v in info.items():\n",
    "    print(f' - {k} shape: {v.shape} ({v.device})')"
   ]
  },
  {
   "cell_type": "markdown",
   "id": "a60777e7",
   "metadata": {},
   "source": [
    "## Latitude and longitude information\n",
    "Latitudes and longitudes are provided as unnormalized. Latitudes are in the range \\[-90, 90\\], and longitudes are in the range \\[0, 360\\]. At the end are functions to perform normalization (I will eventually migrate this into the dataset itself)."
   ]
  },
  {
   "cell_type": "code",
   "execution_count": 17,
   "id": "9458d791",
   "metadata": {},
   "outputs": [
    {
     "data": {
      "text/plain": [
       "tensor([[30.5000, 30.5000, 30.5000,  ..., 30.5000, 30.5000, 30.5000],\n",
       "        [31.5000, 31.5000, 31.5000,  ..., 31.5000, 31.5000, 31.5000],\n",
       "        [32.5000, 32.5000, 32.5000,  ..., 32.5000, 32.5000, 32.5000],\n",
       "        ...,\n",
       "        [62.5000, 62.5000, 62.5000,  ..., 62.5000, 62.5000, 62.5000],\n",
       "        [63.5000, 63.5000, 63.5000,  ..., 63.5000, 63.5000, 63.5000],\n",
       "        [64.5000, 64.5000, 64.5000,  ..., 64.5000, 64.5000, 64.5000]],\n",
       "       device='cuda:0', dtype=torch.float64)"
      ]
     },
     "execution_count": 17,
     "metadata": {},
     "output_type": "execute_result"
    }
   ],
   "source": [
    "info['x_lat']"
   ]
  },
  {
   "cell_type": "code",
   "execution_count": 18,
   "id": "c9a903e9",
   "metadata": {},
   "outputs": [
    {
     "data": {
      "text/plain": [
       "tensor([[-179.3750, -178.1250, -176.8750,  ...,  176.8750,  178.1250,\n",
       "          179.3750],\n",
       "        [-179.3750, -178.1250, -176.8750,  ...,  176.8750,  178.1250,\n",
       "          179.3750],\n",
       "        [-179.3750, -178.1250, -176.8750,  ...,  176.8750,  178.1250,\n",
       "          179.3750],\n",
       "        ...,\n",
       "        [-179.3750, -178.1250, -176.8750,  ...,  176.8750,  178.1250,\n",
       "          179.3750],\n",
       "        [-179.3750, -178.1250, -176.8750,  ...,  176.8750,  178.1250,\n",
       "          179.3750],\n",
       "        [-179.3750, -178.1250, -176.8750,  ...,  176.8750,  178.1250,\n",
       "          179.3750]], device='cuda:0', dtype=torch.float64)"
      ]
     },
     "execution_count": 18,
     "metadata": {},
     "output_type": "execute_result"
    }
   ],
   "source": [
    "info['x_lon']"
   ]
  },
  {
   "cell_type": "code",
   "execution_count": 19,
   "id": "adf56555",
   "metadata": {},
   "outputs": [],
   "source": [
    "def normalize_latitudes(lats):\n",
    "    # Converts from the range [-90, 90] to [0, 1]\n",
    "    return (lats + 90) / 180\n",
    "\n",
    "def normalize_longitudes(lons):\n",
    "    # Converts from the range [-180, 180] to [0, 1]\n",
    "    return (lons + 180) / 360"
   ]
  },
  {
   "cell_type": "code",
   "execution_count": 20,
   "id": "e0d0199b",
   "metadata": {},
   "outputs": [
    {
     "data": {
      "text/plain": [
       "tensor([[0.6694, 0.6694, 0.6694,  ..., 0.6694, 0.6694, 0.6694],\n",
       "        [0.6750, 0.6750, 0.6750,  ..., 0.6750, 0.6750, 0.6750],\n",
       "        [0.6806, 0.6806, 0.6806,  ..., 0.6806, 0.6806, 0.6806],\n",
       "        ...,\n",
       "        [0.8472, 0.8472, 0.8472,  ..., 0.8472, 0.8472, 0.8472],\n",
       "        [0.8528, 0.8528, 0.8528,  ..., 0.8528, 0.8528, 0.8528],\n",
       "        [0.8583, 0.8583, 0.8583,  ..., 0.8583, 0.8583, 0.8583]],\n",
       "       device='cuda:0', dtype=torch.float64)"
      ]
     },
     "execution_count": 20,
     "metadata": {},
     "output_type": "execute_result"
    }
   ],
   "source": [
    "normalize_latitudes(info['x_lat'])"
   ]
  },
  {
   "cell_type": "code",
   "execution_count": 21,
   "id": "f5361634",
   "metadata": {},
   "outputs": [
    {
     "data": {
      "text/plain": [
       "tensor([[0.0017, 0.0052, 0.0087,  ..., 0.9913, 0.9948, 0.9983],\n",
       "        [0.0017, 0.0052, 0.0087,  ..., 0.9913, 0.9948, 0.9983],\n",
       "        [0.0017, 0.0052, 0.0087,  ..., 0.9913, 0.9948, 0.9983],\n",
       "        ...,\n",
       "        [0.0017, 0.0052, 0.0087,  ..., 0.9913, 0.9948, 0.9983],\n",
       "        [0.0017, 0.0052, 0.0087,  ..., 0.9913, 0.9948, 0.9983],\n",
       "        [0.0017, 0.0052, 0.0087,  ..., 0.9913, 0.9948, 0.9983]],\n",
       "       device='cuda:0', dtype=torch.float64)"
      ]
     },
     "execution_count": 21,
     "metadata": {},
     "output_type": "execute_result"
    }
   ],
   "source": [
    "normalize_longitudes(info['x_lon'])"
   ]
  },
  {
   "cell_type": "code",
   "execution_count": null,
   "id": "8080f895",
   "metadata": {},
   "outputs": [],
   "source": []
  }
 ],
 "metadata": {
  "kernelspec": {
   "display_name": "Python (downscale-gpu)",
   "language": "python",
   "name": "downscale-gpu"
  },
  "language_info": {
   "codemirror_mode": {
    "name": "ipython",
    "version": 3
   },
   "file_extension": ".py",
   "mimetype": "text/x-python",
   "name": "python",
   "nbconvert_exporter": "python",
   "pygments_lexer": "ipython3",
   "version": "3.9.12"
  }
 },
 "nbformat": 4,
 "nbformat_minor": 5
}
