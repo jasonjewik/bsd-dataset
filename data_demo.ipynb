{
 "cells": [
  {
   "cell_type": "code",
   "execution_count": 1,
   "id": "e3f9710c",
   "metadata": {},
   "outputs": [],
   "source": [
    "%load_ext autoreload\n",
    "%autoreload 2"
   ]
  },
  {
   "cell_type": "code",
   "execution_count": 2,
   "id": "3db0bc11",
   "metadata": {},
   "outputs": [
    {
     "name": "stderr",
     "output_type": "stream",
     "text": [
      "/u/home/j/jkjewik/.conda/envs/downscale-cpu/lib/python3.9/site-packages/tqdm/auto.py:22: TqdmWarning: IProgress not found. Please update jupyter and ipywidgets. See https://ipywidgets.readthedocs.io/en/stable/user_install.html\n",
      "  from .autonotebook import tqdm as notebook_tqdm\n"
     ]
    }
   ],
   "source": [
    "import torch\n",
    "import numpy as np\n",
    "\n",
    "from bsd_dataset import get_dataset\n",
    "from bsd_dataset.common.dataloaders import get_dataloader\n",
    "from bsd_dataset.common.metrics import rmse, bias, pearson_correlation_coefficient\n",
    "from bsd_dataset.regions import Region"
   ]
  },
  {
   "cell_type": "code",
   "execution_count": 3,
   "id": "d5765570",
   "metadata": {},
   "outputs": [],
   "source": [
    "# Define input options\n",
    "input_datasets = {\n",
    "    'cds:cmip5-single-levels:gfdl_cm3': {\n",
    "        'ensemble_member': 'r1i1p1',\n",
    "        'variable': [\n",
    "            'mean_precipitation_flux',\n",
    "            'near_surface_specific_humidity'\n",
    "        ],\n",
    "        'period': [\n",
    "            '19800101-19841231', '19850101-19891231',\n",
    "            '19900101-19941231', '19950101-19991231',\n",
    "            '20000101-20041231', '20050101-20051231'\n",
    "        ]\n",
    "    },\n",
    "    'gmted2010_0250': {},\n",
    "}"
   ]
  },
  {
   "cell_type": "code",
   "execution_count": 4,
   "id": "e12a83f0",
   "metadata": {},
   "outputs": [],
   "source": [
    "# Define the study region\n",
    "Spain = Region(\n",
    "    top_left=(-12, 45),\n",
    "    bottom_right=(2, 35)\n",
    ")"
   ]
  },
  {
   "cell_type": "code",
   "execution_count": 5,
   "id": "286cca6e",
   "metadata": {
    "scrolled": true
   },
   "outputs": [
    {
     "name": "stdout",
     "output_type": "stream",
     "text": [
      "WARNING: /u/scratch/j/jkjewik/data does not exist, attempting to create...\n"
     ]
    },
    {
     "name": "stderr",
     "output_type": "stream",
     "text": [
      "2022-04-30 14:53:50,744 INFO Welcome to the CDS\n",
      "2022-04-30 14:53:50,748 INFO Sending request to https://cds.climate.copernicus.eu/api/v2/resources/projections-cmip5-daily-single-levels\n",
      "2022-04-30 14:53:51,029 INFO Request is queued\n",
      "2022-04-30 14:53:52,207 INFO Request is running\n",
      "2022-04-30 14:56:44,087 INFO Request is completed\n",
      "2022-04-30 14:56:44,088 INFO Downloading https://download-0015-clone.copernicus-climate.eu/cache-compute-0015/cache/data1/dataset-projections-cmip5-daily-single-levels-d574344b-97b5-4715-ad9a-8cb2bca41a7d.tar.gz to /u/scratch/j/jkjewik/data/cds/cmip5-single-levels.gfdl_cm3.tar.gz (833M)\n",
      "2022-04-30 14:58:25,773 INFO Download rate 8.2M/s\n"
     ]
    }
   ],
   "source": [
    "# Get the dataset (already downloaded and extracted)\n",
    "dataset = get_dataset(\n",
    "    input_datasets=input_datasets,\n",
    "    target_dataset='chirps_25',\n",
    "    train_region=Spain,\n",
    "    val_region=Spain,\n",
    "    test_region=Spain,\n",
    "    train_dates=('1981-01-01', '2003-12-31'),\n",
    "    val_dates=('2004-01-01', '2004-12-31'),\n",
    "    test_dates=('2005-01-01', '2005-12-31'),\n",
    "    download=True,\n",
    "    extract=True,\n",
    "    root='/u/scratch/j/jkjewik/data'  ## CHANGE ME ##\n",
    ")"
   ]
  },
  {
   "cell_type": "code",
   "execution_count": 6,
   "id": "2fa9fd42",
   "metadata": {},
   "outputs": [],
   "source": [
    "# Get the training subset (WARNING: this mutates the dataset!)\n",
    "# You can also get the validation set with get_subset('val')\n",
    "# and the testing set with get_subset('test')\n",
    "\n",
    "train_ds = dataset.get_subset('train')\n",
    "train_loader = get_dataloader(dataset, batch_size=16)"
   ]
  },
  {
   "cell_type": "code",
   "execution_count": 7,
   "id": "d66d5e3b",
   "metadata": {},
   "outputs": [
    {
     "name": "stdout",
     "output_type": "stream",
     "text": [
      "Input shape: torch.Size([16, 3, 56, 40])\n",
      "Target shape: torch.Size([16, 56, 40])\n",
      "Mask shape: torch.Size([16, 56, 40])\n"
     ]
    }
   ],
   "source": [
    "for x, y, mask in train_loader:\n",
    "    print(f'Input shape: {x.shape}')  # batch size x channels x longitude x latitude\n",
    "    print(f'Target shape: {y.shape}')  # batch size x longitude x latitude (no channel because it's just the precipitation)\n",
    "    print(f'Mask shape: {mask.shape}')  # same shape as the target\n",
    "    break"
   ]
  },
  {
   "cell_type": "markdown",
   "id": "ee34f9eb",
   "metadata": {},
   "source": [
    "There are three channels in the input, corresponding to (1) mean precipitation flux, (2) near surface specific humidity, and (3) GMTED2010 elevation data."
   ]
  },
  {
   "cell_type": "code",
   "execution_count": 8,
   "id": "29c4c60b",
   "metadata": {},
   "outputs": [
    {
     "data": {
      "text/plain": [
       "tensor([[ True,  True,  True,  ...,  True,  True,  True],\n",
       "        [ True,  True,  True,  ...,  True,  True,  True],\n",
       "        [ True,  True,  True,  ...,  True,  True,  True],\n",
       "        ...,\n",
       "        [False, False, False,  ..., False, False, False],\n",
       "        [False, False, False,  ..., False, False, False],\n",
       "        [False, False, False,  ..., False, False, False]])"
      ]
     },
     "execution_count": 8,
     "metadata": {},
     "output_type": "execute_result"
    }
   ],
   "source": [
    "# \"mask\" is True wherever the target data is NaN and\n",
    "# False wherever it is not NaN\n",
    "mask[0]"
   ]
  },
  {
   "cell_type": "code",
   "execution_count": 15,
   "id": "f563c1c3",
   "metadata": {},
   "outputs": [],
   "source": [
    "# Create a tensor that is ground truth + Gaussan noise (with nans set to 1 first)\n",
    "y_true = y[0]\n",
    "y_pred = torch.where(mask[0], torch.ones_like(y_true), y_true)\n",
    "y_pred = y_pred + 10 * torch.randn(y_pred.shape)"
   ]
  },
  {
   "cell_type": "code",
   "execution_count": 16,
   "id": "07e166a3",
   "metadata": {},
   "outputs": [
    {
     "name": "stderr",
     "output_type": "stream",
     "text": [
      "/u/home/j/jkjewik/bsd-dataset/bsd_dataset/common/metrics.py:13: UserWarning: To copy construct from a tensor, it is recommended to use sourceTensor.clone().detach() or sourceTensor.clone().detach().requires_grad_(True), rather than torch.tensor(sourceTensor).\n",
      "  y_pred = torch.tensor(y_pred)\n",
      "/u/home/j/jkjewik/bsd-dataset/bsd_dataset/common/metrics.py:14: UserWarning: To copy construct from a tensor, it is recommended to use sourceTensor.clone().detach() or sourceTensor.clone().detach().requires_grad_(True), rather than torch.tensor(sourceTensor).\n",
      "  y_true = torch.tensor(y_true)\n"
     ]
    },
    {
     "data": {
      "text/plain": [
       "tensor(7.3691)"
      ]
     },
     "execution_count": 16,
     "metadata": {},
     "output_type": "execute_result"
    }
   ],
   "source": [
    "rmse(y_pred, y_true)"
   ]
  },
  {
   "cell_type": "code",
   "execution_count": 17,
   "id": "86776abc",
   "metadata": {},
   "outputs": [
    {
     "name": "stderr",
     "output_type": "stream",
     "text": [
      "/u/home/j/jkjewik/bsd-dataset/bsd_dataset/common/metrics.py:27: UserWarning: To copy construct from a tensor, it is recommended to use sourceTensor.clone().detach() or sourceTensor.clone().detach().requires_grad_(True), rather than torch.tensor(sourceTensor).\n",
      "  y_pred = torch.tensor(y_pred)\n",
      "/u/home/j/jkjewik/bsd-dataset/bsd_dataset/common/metrics.py:28: UserWarning: To copy construct from a tensor, it is recommended to use sourceTensor.clone().detach() or sourceTensor.clone().detach().requires_grad_(True), rather than torch.tensor(sourceTensor).\n",
      "  y_true = torch.tensor(y_true)\n"
     ]
    },
    {
     "data": {
      "text/plain": [
       "nan"
      ]
     },
     "execution_count": 17,
     "metadata": {},
     "output_type": "execute_result"
    }
   ],
   "source": [
    "pearson_correlation_coefficient(y_pred, y_true)"
   ]
  },
  {
   "cell_type": "code",
   "execution_count": 18,
   "id": "4a6b90a5",
   "metadata": {},
   "outputs": [
    {
     "name": "stderr",
     "output_type": "stream",
     "text": [
      "/u/home/j/jkjewik/bsd-dataset/bsd_dataset/common/metrics.py:20: UserWarning: To copy construct from a tensor, it is recommended to use sourceTensor.clone().detach() or sourceTensor.clone().detach().requires_grad_(True), rather than torch.tensor(sourceTensor).\n",
      "  y_pred = torch.tensor(y_pred)\n",
      "/u/home/j/jkjewik/bsd-dataset/bsd_dataset/common/metrics.py:21: UserWarning: To copy construct from a tensor, it is recommended to use sourceTensor.clone().detach() or sourceTensor.clone().detach().requires_grad_(True), rather than torch.tensor(sourceTensor).\n",
      "  y_true = torch.tensor(y_true)\n"
     ]
    },
    {
     "data": {
      "text/plain": [
       "tensor(-55.3295)"
      ]
     },
     "execution_count": 18,
     "metadata": {},
     "output_type": "execute_result"
    }
   ],
   "source": [
    "bias(y_pred, y_true)  # bias in downscaling is (predictions - truth)"
   ]
  },
  {
   "cell_type": "code",
   "execution_count": null,
   "id": "6ef7b20f",
   "metadata": {},
   "outputs": [],
   "source": []
  }
 ],
 "metadata": {
  "kernelspec": {
   "display_name": "downscale-cpu",
   "language": "python",
   "name": "downscale-cpu"
  },
  "language_info": {
   "codemirror_mode": {
    "name": "ipython",
    "version": 3
   },
   "file_extension": ".py",
   "mimetype": "text/x-python",
   "name": "python",
   "nbconvert_exporter": "python",
   "pygments_lexer": "ipython3",
   "version": "3.9.12"
  }
 },
 "nbformat": 4,
 "nbformat_minor": 5
}
