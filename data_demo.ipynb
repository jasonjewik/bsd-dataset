{
 "cells": [
  {
   "cell_type": "code",
   "execution_count": 16,
   "id": "e3f9710c",
   "metadata": {},
   "outputs": [
    {
     "name": "stdout",
     "output_type": "stream",
     "text": [
      "The autoreload extension is already loaded. To reload it, use:\n",
      "  %reload_ext autoreload\n"
     ]
    }
   ],
   "source": [
    "%load_ext autoreload\n",
    "%autoreload 2"
   ]
  },
  {
   "cell_type": "code",
   "execution_count": 26,
   "id": "3db0bc11",
   "metadata": {},
   "outputs": [],
   "source": [
    "import torch\n",
    "import numpy as np\n",
    "\n",
    "from bsd_dataset import get_dataset\n",
    "from bsd_dataset.common.dataloaders import get_dataloader\n",
    "from bsd_dataset.common.metrics import rmse, bias, pearson_correlation_coefficient\n",
    "from bsd_dataset.regions import Region"
   ]
  },
  {
   "cell_type": "code",
   "execution_count": 18,
   "id": "d5765570",
   "metadata": {},
   "outputs": [],
   "source": [
    "# Define input options\n",
    "input_datasets = {\n",
    "    'cds:cmip5-single-levels:gfdl_cm3': {\n",
    "        'ensemble_member': 'r1i1p1',\n",
    "        'variable': [\n",
    "            'mean_precipitation_flux',\n",
    "            'near_surface_specific_humidity'\n",
    "        ],\n",
    "        'period': [\n",
    "            '19800101-19841231', '19850101-19891231',\n",
    "            '19950101-19991231', '20000101-20041231',\n",
    "            '20050101-20051231'\n",
    "        ]\n",
    "    },\n",
    "    'gmted2010_0250': {},\n",
    "}"
   ]
  },
  {
   "cell_type": "code",
   "execution_count": 19,
   "id": "e12a83f0",
   "metadata": {},
   "outputs": [],
   "source": [
    "# Define the study region\n",
    "Spain = Region(\n",
    "    top_left=(-12, 45),\n",
    "    bottom_right=(2, 35)\n",
    ")"
   ]
  },
  {
   "cell_type": "code",
   "execution_count": 21,
   "id": "286cca6e",
   "metadata": {
    "scrolled": true
   },
   "outputs": [],
   "source": [
    "# Get the dataset (already downloaded and extracted)\n",
    "dataset = get_dataset(\n",
    "    input_datasets=input_datasets,\n",
    "    target_dataset='chirps_25',\n",
    "    train_region=Spain,\n",
    "    val_region=Spain,\n",
    "    test_region=Spain,\n",
    "    train_dates=('1981-01-01', '2003-12-31'),\n",
    "    val_dates=('2004-01-01', '2004-12-31'),\n",
    "    test_dates=('2005-01-01', '2005-12-31'),\n",
    "    download=False,\n",
    "    extract=False,\n",
    "    root='/u/scratch/j/jkjewik/data'  ## CHANGE ME ##\n",
    ")"
   ]
  },
  {
   "cell_type": "code",
   "execution_count": 22,
   "id": "2fa9fd42",
   "metadata": {},
   "outputs": [],
   "source": [
    "# Get the training subset (WARNING: this mutates the dataset!)\n",
    "# You can also get the validation set with get_subset('val')\n",
    "# and the testing set with get_subset('test')\n",
    "\n",
    "train_ds = dataset.get_subset('train')\n",
    "train_loader = get_dataloader(dataset, batch_size=16)"
   ]
  },
  {
   "cell_type": "code",
   "execution_count": 23,
   "id": "d66d5e3b",
   "metadata": {},
   "outputs": [
    {
     "name": "stdout",
     "output_type": "stream",
     "text": [
      "Input shape: torch.Size([16, 3, 56, 40])\n",
      "Target shape: torch.Size([16, 56, 40])\n",
      "Mask shape: torch.Size([16, 56, 40])\n"
     ]
    }
   ],
   "source": [
    "for x, y, mask in train_loader:\n",
    "    print(f'Input shape: {x.shape}')  # batch size x channels x longitude x latitude\n",
    "    print(f'Target shape: {y.shape}')  # batch size x longitude x latitude (no channel because it's just the precipitation)\n",
    "    print(f'Mask shape: {mask.shape}')  # same shape as the target\n",
    "    break"
   ]
  },
  {
   "cell_type": "code",
   "execution_count": 25,
   "id": "29c4c60b",
   "metadata": {},
   "outputs": [
    {
     "data": {
      "text/plain": [
       "tensor([[ True,  True,  True,  ...,  True,  True,  True],\n",
       "        [ True,  True,  True,  ...,  True,  True,  True],\n",
       "        [ True,  True,  True,  ...,  True,  True,  True],\n",
       "        ...,\n",
       "        [False, False, False,  ..., False, False, False],\n",
       "        [False, False, False,  ..., False, False, False],\n",
       "        [False, False, False,  ..., False, False, False]])"
      ]
     },
     "execution_count": 25,
     "metadata": {},
     "output_type": "execute_result"
    }
   ],
   "source": [
    "# \"mask\" is True wherever the target data is NaN and\n",
    "# False wherever it is not NaN\n",
    "mask[0]"
   ]
  },
  {
   "cell_type": "code",
   "execution_count": 44,
   "id": "f563c1c3",
   "metadata": {},
   "outputs": [],
   "source": [
    "# Create a tensor that is ground truth + Gaussan noise (with nans set to 1 first)\n",
    "y_true = y[0]\n",
    "y_pred = torch.where(mask[0], torch.ones_like(y_true), y_true)\n",
    "y_pred = y_pred + torch.randn(y_pred.shape)"
   ]
  },
  {
   "cell_type": "code",
   "execution_count": 45,
   "id": "07e166a3",
   "metadata": {},
   "outputs": [
    {
     "name": "stderr",
     "output_type": "stream",
     "text": [
      "/u/home/j/jkjewik/bsd-dataset/bsd_dataset/common/metrics.py:13: UserWarning: To copy construct from a tensor, it is recommended to use sourceTensor.clone().detach() or sourceTensor.clone().detach().requires_grad_(True), rather than torch.tensor(sourceTensor).\n",
      "  y_pred = torch.tensor(y_pred)\n",
      "/u/home/j/jkjewik/bsd-dataset/bsd_dataset/common/metrics.py:14: UserWarning: To copy construct from a tensor, it is recommended to use sourceTensor.clone().detach() or sourceTensor.clone().detach().requires_grad_(True), rather than torch.tensor(sourceTensor).\n",
      "  y_true = torch.tensor(y_true)\n"
     ]
    },
    {
     "data": {
      "text/plain": [
       "tensor(0.7321)"
      ]
     },
     "execution_count": 45,
     "metadata": {},
     "output_type": "execute_result"
    }
   ],
   "source": [
    "rmse(y_pred, y_true)"
   ]
  },
  {
   "cell_type": "code",
   "execution_count": 46,
   "id": "86776abc",
   "metadata": {},
   "outputs": [
    {
     "data": {
      "text/plain": [
       "0.9129681765691058"
      ]
     },
     "execution_count": 46,
     "metadata": {},
     "output_type": "execute_result"
    }
   ],
   "source": [
    "pearson_correlation_coefficient(y_pred, y_true)"
   ]
  },
  {
   "cell_type": "code",
   "execution_count": 47,
   "id": "4a6b90a5",
   "metadata": {},
   "outputs": [
    {
     "data": {
      "text/plain": [
       "tensor(-15.4797)"
      ]
     },
     "execution_count": 47,
     "metadata": {},
     "output_type": "execute_result"
    }
   ],
   "source": [
    "bias(y_pred, y_true)  # bias in downscaling is (predictions - truth)"
   ]
  },
  {
   "cell_type": "code",
   "execution_count": null,
   "id": "6ef7b20f",
   "metadata": {},
   "outputs": [],
   "source": []
  }
 ],
 "metadata": {
  "kernelspec": {
   "display_name": "downscale-cpu",
   "language": "python",
   "name": "downscale-cpu"
  },
  "language_info": {
   "codemirror_mode": {
    "name": "ipython",
    "version": 3
   },
   "file_extension": ".py",
   "mimetype": "text/x-python",
   "name": "python",
   "nbconvert_exporter": "python",
   "pygments_lexer": "ipython3",
   "version": "3.9.12"
  }
 },
 "nbformat": 4,
 "nbformat_minor": 5
}
