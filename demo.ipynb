{
 "cells": [
  {
   "cell_type": "code",
   "execution_count": 1,
   "id": "2089bfdf",
   "metadata": {},
   "outputs": [],
   "source": [
    "%load_ext autoreload\n",
    "%autoreload 2"
   ]
  },
  {
   "cell_type": "code",
   "execution_count": 2,
   "id": "6aaab62d",
   "metadata": {},
   "outputs": [],
   "source": [
    "from bsd_dataset import get_dataset, regions, DatasetRequest"
   ]
  },
  {
   "cell_type": "code",
   "execution_count": 3,
   "id": "20c2be0e",
   "metadata": {},
   "outputs": [],
   "source": [
    "input_datasets = [\n",
    "    DatasetRequest(\n",
    "        dataset='projections-cmip5-daily-single-levels',\n",
    "        model='gfdl_cm3',\n",
    "        ensemble_member='r1i1p1',\n",
    "        variable=['mean_precipitation_flux', '2m_temperature'],\n",
    "    ),\n",
    "#     DatasetRequest(\n",
    "#         dataset='projections-cmip5-daily-single-levels',\n",
    "#         model='ipsl_cm5a_mr',\n",
    "#         ensemble_member='r1i1p1',\n",
    "#         variable=['mean_precipitation_flux', '2m_temperature']\n",
    "#     ),\n",
    "#     DatasetRequest(\n",
    "#         dataset='projections-cmip5-daily-single-levels',\n",
    "#         model='ccsm4',\n",
    "#         ensemble_member='r1i1p1',\n",
    "#         variable=['mean_precipitation_flux', '2m_temperature']\n",
    "#     ),\n",
    "    DatasetRequest(\n",
    "       dataset='gmted2010',\n",
    "       resolution=0.25\n",
    "    )\n",
    "]\n",
    "\n",
    "target_dataset = DatasetRequest(dataset='chirps', resolution=0.25)"
   ]
  },
  {
   "cell_type": "code",
   "execution_count": 7,
   "id": "c803c45f",
   "metadata": {},
   "outputs": [],
   "source": [
    "dataset = get_dataset(\n",
    "    input_datasets,\n",
    "    target_dataset,\n",
    "    train_region=regions.California,\n",
    "    val_region=regions.California,\n",
    "    test_region=regions.California,\n",
    "    train_dates=('1990-01-01', '1990-12-31'),\n",
    "    val_dates=('1991-01-01', '1991-12-31'),\n",
    "    test_dates=('1992-01-01', '1992-12-31'),\n",
    "    download=False,  # CHANGE ME (as needed)\n",
    "    extract=True    # CHANGE ME (as needed)\n",
    ")"
   ]
  },
  {
   "cell_type": "code",
   "execution_count": 8,
   "id": "8fde2c1f",
   "metadata": {},
   "outputs": [],
   "source": [
    "train_dataset = dataset.get_split('train')\n",
    "val_dataset = dataset.get_split('val')\n",
    "test_dataset = dataset.get_split('test')"
   ]
  },
  {
   "cell_type": "code",
   "execution_count": 9,
   "id": "cda5960f",
   "metadata": {},
   "outputs": [],
   "source": [
    "x, y, mask = train_dataset[0]\n",
    "print(f'INPUT SHAPE: {x.shape}')\n",
    "print(f'TARGET SHAPE: {y.shape}')\n",
    "print(f'MASK SHAPE: {mask.shape}')"
   ]
  }
 ],
 "metadata": {
  "kernelspec": {
   "display_name": "Python (downscale-cpu)",
   "language": "python",
   "name": "downscale-cpu"
  },
  "language_info": {
   "codemirror_mode": {
    "name": "ipython",
    "version": 3
   },
   "file_extension": ".py",
   "mimetype": "text/x-python",
   "name": "python",
   "nbconvert_exporter": "python",
   "pygments_lexer": "ipython3",
   "version": "3.9.12"
  }
 },
 "nbformat": 4,
 "nbformat_minor": 5
}
