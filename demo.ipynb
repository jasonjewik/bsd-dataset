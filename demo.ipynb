{
 "cells": [
  {
   "cell_type": "code",
   "execution_count": 10,
   "id": "2089bfdf",
   "metadata": {},
   "outputs": [
    {
     "name": "stdout",
     "output_type": "stream",
     "text": [
      "The autoreload extension is already loaded. To reload it, use:\n",
      "  %reload_ext autoreload\n"
     ]
    }
   ],
   "source": [
    "%load_ext autoreload\n",
    "%autoreload 2"
   ]
  },
  {
   "cell_type": "code",
   "execution_count": 11,
   "id": "6aaab62d",
   "metadata": {},
   "outputs": [],
   "source": [
    "from bsd_dataset import get_dataset, regions, DatasetRequest"
   ]
  },
  {
   "cell_type": "code",
   "execution_count": 12,
   "id": "20c2be0e",
   "metadata": {},
   "outputs": [],
   "source": [
    "input_datasets = [\n",
    "    DatasetRequest(\n",
    "        dataset='projections-cmip5-daily-single-levels',\n",
    "        model='gfdl_cm3',\n",
    "        ensemble_member='r1i1p1',\n",
    "        variable=['mean_precipitation_flux', '2m_temperature'],\n",
    "    ),\n",
    "    DatasetRequest(\n",
    "        dataset='projections-cmip5-daily-single-levels',\n",
    "        model='ipsl_cm5a_mr',\n",
    "        ensemble_member='r1i1p1',\n",
    "        variable=['mean_precipitation_flux', '2m_temperature']\n",
    "    ),\n",
    "    DatasetRequest(\n",
    "        dataset='projections-cmip5-daily-single-levels',\n",
    "        model='ccsm4',\n",
    "        ensemble_member='r1i1p1',\n",
    "        variable=['mean_precipitation_flux', '2m_temperature']\n",
    "    ),\n",
    "    DatasetRequest(\n",
    "       dataset='gmted2010',\n",
    "       resolution=0.25\n",
    "    )\n",
    "]\n",
    "\n",
    "target_dataset = DatasetRequest(dataset='chirps', resolution=0.25)"
   ]
  },
  {
   "cell_type": "code",
   "execution_count": 13,
   "id": "c803c45f",
   "metadata": {},
   "outputs": [
    {
     "ename": "NameError",
     "evalue": "name 'BSDDBuilder' is not defined",
     "output_type": "error",
     "traceback": [
      "\u001b[1;31m---------------------------------------------------------------------------\u001b[0m",
      "\u001b[1;31mNameError\u001b[0m                                 Traceback (most recent call last)",
      "Input \u001b[1;32mIn [13]\u001b[0m, in \u001b[0;36m<cell line: 1>\u001b[1;34m()\u001b[0m\n\u001b[1;32m----> 1\u001b[0m dataset \u001b[38;5;241m=\u001b[39m \u001b[43mget_dataset\u001b[49m\u001b[43m(\u001b[49m\n\u001b[0;32m      2\u001b[0m \u001b[43m    \u001b[49m\u001b[43minput_datasets\u001b[49m\u001b[43m,\u001b[49m\n\u001b[0;32m      3\u001b[0m \u001b[43m    \u001b[49m\u001b[43mtarget_dataset\u001b[49m\u001b[43m,\u001b[49m\n\u001b[0;32m      4\u001b[0m \u001b[43m    \u001b[49m\u001b[43mtrain_region\u001b[49m\u001b[38;5;241;43m=\u001b[39;49m\u001b[43mregions\u001b[49m\u001b[38;5;241;43m.\u001b[39;49m\u001b[43mCalifornia\u001b[49m\u001b[43m,\u001b[49m\n\u001b[0;32m      5\u001b[0m \u001b[43m    \u001b[49m\u001b[43mval_region\u001b[49m\u001b[38;5;241;43m=\u001b[39;49m\u001b[43mregions\u001b[49m\u001b[38;5;241;43m.\u001b[39;49m\u001b[43mCalifornia\u001b[49m\u001b[43m,\u001b[49m\n\u001b[0;32m      6\u001b[0m \u001b[43m    \u001b[49m\u001b[43mtest_region\u001b[49m\u001b[38;5;241;43m=\u001b[39;49m\u001b[43mregions\u001b[49m\u001b[38;5;241;43m.\u001b[39;49m\u001b[43mCalifornia\u001b[49m\u001b[43m,\u001b[49m\n\u001b[0;32m      7\u001b[0m \u001b[43m    \u001b[49m\u001b[43mtrain_dates\u001b[49m\u001b[38;5;241;43m=\u001b[39;49m\u001b[43m(\u001b[49m\u001b[38;5;124;43m'\u001b[39;49m\u001b[38;5;124;43m1990-01-01\u001b[39;49m\u001b[38;5;124;43m'\u001b[39;49m\u001b[43m,\u001b[49m\u001b[43m \u001b[49m\u001b[38;5;124;43m'\u001b[39;49m\u001b[38;5;124;43m1990-12-31\u001b[39;49m\u001b[38;5;124;43m'\u001b[39;49m\u001b[43m)\u001b[49m\u001b[43m,\u001b[49m\n\u001b[0;32m      8\u001b[0m \u001b[43m    \u001b[49m\u001b[43mval_dates\u001b[49m\u001b[38;5;241;43m=\u001b[39;49m\u001b[43m(\u001b[49m\u001b[38;5;124;43m'\u001b[39;49m\u001b[38;5;124;43m1991-01-01\u001b[39;49m\u001b[38;5;124;43m'\u001b[39;49m\u001b[43m,\u001b[49m\u001b[43m \u001b[49m\u001b[38;5;124;43m'\u001b[39;49m\u001b[38;5;124;43m1991-12-31\u001b[39;49m\u001b[38;5;124;43m'\u001b[39;49m\u001b[43m)\u001b[49m\u001b[43m,\u001b[49m\n\u001b[0;32m      9\u001b[0m \u001b[43m    \u001b[49m\u001b[43mtest_dates\u001b[49m\u001b[38;5;241;43m=\u001b[39;49m\u001b[43m(\u001b[49m\u001b[38;5;124;43m'\u001b[39;49m\u001b[38;5;124;43m1992-01-01\u001b[39;49m\u001b[38;5;124;43m'\u001b[39;49m\u001b[43m,\u001b[49m\u001b[43m \u001b[49m\u001b[38;5;124;43m'\u001b[39;49m\u001b[38;5;124;43m1992-12-31\u001b[39;49m\u001b[38;5;124;43m'\u001b[39;49m\u001b[43m)\u001b[49m\u001b[43m,\u001b[49m\n\u001b[0;32m     10\u001b[0m \u001b[43m    \u001b[49m\u001b[43mdownload\u001b[49m\u001b[38;5;241;43m=\u001b[39;49m\u001b[38;5;28;43;01mFalse\u001b[39;49;00m\u001b[43m,\u001b[49m\u001b[43m  \u001b[49m\u001b[38;5;66;43;03m# CHANGE ME (as needed)\u001b[39;49;00m\n\u001b[0;32m     11\u001b[0m \u001b[43m    \u001b[49m\u001b[43mextract\u001b[49m\u001b[38;5;241;43m=\u001b[39;49m\u001b[38;5;28;43;01mFalse\u001b[39;49;00m\u001b[43m    \u001b[49m\u001b[38;5;66;43;03m# CHANGE ME (as needed)\u001b[39;49;00m\n\u001b[0;32m     12\u001b[0m \u001b[43m)\u001b[49m\n",
      "File \u001b[1;32m~\\GitRepos\\bsd-dataset\\bsd_dataset\\get_dataset.py:36\u001b[0m, in \u001b[0;36mget_dataset\u001b[1;34m(input_datasets, target_dataset, train_region, val_region, test_region, train_dates, val_dates, test_dates, download, extract, root, cds_uid, cds_key)\u001b[0m\n\u001b[0;32m     33\u001b[0m         helper\u001b[38;5;241m.\u001b[39msetup(cds_uid, cds_key)\n\u001b[0;32m     35\u001b[0m \u001b[38;5;66;03m# Construct builder\u001b[39;00m\n\u001b[1;32m---> 36\u001b[0m builder \u001b[38;5;241m=\u001b[39m \u001b[43mBSDDBuilder\u001b[49m(\n\u001b[0;32m     37\u001b[0m     input_datasets,\n\u001b[0;32m     38\u001b[0m     target_dataset,\n\u001b[0;32m     39\u001b[0m     train_region,\n\u001b[0;32m     40\u001b[0m     val_region,\n\u001b[0;32m     41\u001b[0m     test_region,\n\u001b[0;32m     42\u001b[0m     train_dates,\n\u001b[0;32m     43\u001b[0m     val_dates,\n\u001b[0;32m     44\u001b[0m     test_dates,\n\u001b[0;32m     45\u001b[0m     Path(root)\n\u001b[0;32m     46\u001b[0m )\n\u001b[0;32m     47\u001b[0m builder\u001b[38;5;241m.\u001b[39mprepare_download_requests()\n\u001b[0;32m     49\u001b[0m \u001b[38;5;28;01mif\u001b[39;00m download:\n",
      "\u001b[1;31mNameError\u001b[0m: name 'BSDDBuilder' is not defined"
     ]
    }
   ],
   "source": [
    "dataset = get_dataset(\n",
    "    input_datasets,\n",
    "    target_dataset,\n",
    "    train_region=regions.California,\n",
    "    val_region=regions.California,\n",
    "    test_region=regions.California,\n",
    "    train_dates=('1990-01-01', '1990-12-31'),\n",
    "    val_dates=('1991-01-01', '1991-12-31'),\n",
    "    test_dates=('1992-01-01', '1992-12-31'),\n",
    "    download=False,  # CHANGE ME (as needed)\n",
    "    extract=False    # CHANGE ME (as needed)\n",
    ")"
   ]
  },
  {
   "cell_type": "code",
   "execution_count": null,
   "id": "8fde2c1f",
   "metadata": {},
   "outputs": [],
   "source": [
    "train_dataset = dataset.get_split('train')\n",
    "val_dataset = dataset.get_split('val')\n",
    "test_dataset = dataset.get_split('test')"
   ]
  }
 ],
 "metadata": {
  "kernelspec": {
   "display_name": "Python (downscale-cpu)",
   "language": "python",
   "name": "downscale-cpu"
  },
  "language_info": {
   "codemirror_mode": {
    "name": "ipython",
    "version": 3
   },
   "file_extension": ".py",
   "mimetype": "text/x-python",
   "name": "python",
   "nbconvert_exporter": "python",
   "pygments_lexer": "ipython3",
   "version": "3.9.12"
  }
 },
 "nbformat": 4,
 "nbformat_minor": 5
}
