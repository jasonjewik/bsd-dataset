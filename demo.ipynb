{
 "cells": [
  {
   "cell_type": "code",
   "execution_count": 30,
   "id": "2089bfdf",
   "metadata": {},
   "outputs": [
    {
     "name": "stdout",
     "output_type": "stream",
     "text": [
      "The autoreload extension is already loaded. To reload it, use:\n",
      "  %reload_ext autoreload\n"
     ]
    }
   ],
   "source": [
    "%load_ext autoreload\n",
    "%autoreload 2"
   ]
  },
  {
   "cell_type": "code",
   "execution_count": 31,
   "id": "6aaab62d",
   "metadata": {},
   "outputs": [],
   "source": [
    "import torch\n",
    "from bsd_dataset import get_dataset, regions, DatasetRequest"
   ]
  },
  {
   "cell_type": "code",
   "execution_count": 32,
   "id": "694e2b39",
   "metadata": {},
   "outputs": [
    {
     "name": "stdout",
     "output_type": "stream",
     "text": [
      "1\n"
     ]
    }
   ],
   "source": [
    "if torch.cuda.is_available():\n",
    "    print(torch.cuda.device_count())"
   ]
  },
  {
   "cell_type": "code",
   "execution_count": 33,
   "id": "20c2be0e",
   "metadata": {},
   "outputs": [],
   "source": [
    "input_datasets = [\n",
    "    DatasetRequest(\n",
    "        dataset='projections-cmip6',\n",
    "        model='gfdl_esm4',\n",
    "        variable='precipitation',\n",
    "    )\n",
    "]\n",
    "\n",
    "target_dataset = DatasetRequest(dataset='chirps', resolution=0.25)"
   ]
  },
  {
   "cell_type": "code",
   "execution_count": 37,
   "id": "c803c45f",
   "metadata": {},
   "outputs": [],
   "source": [
    "dataset = get_dataset(\n",
    "    input_datasets,\n",
    "    target_dataset,\n",
    "    train_region=regions.SouthAmerica,\n",
    "    val_region=regions.SouthAmerica,\n",
    "    test_region=regions.SouthAmerica,\n",
    "    train_dates=('1990-01-01', '1990-12-31'),\n",
    "    val_dates=('1991-01-01', '1991-12-31'),\n",
    "    test_dates=('1992-01-01', '1992-12-31'),\n",
    "    download=False,  # CHANGE ME (as needed)\n",
    "    extract=True,   # CHANGE ME (as needed)\n",
    "    device='cuda:0'\n",
    ")"
   ]
  },
  {
   "cell_type": "code",
   "execution_count": 38,
   "id": "8fde2c1f",
   "metadata": {},
   "outputs": [],
   "source": [
    "train_dataset = dataset.get_split('train')\n",
    "val_dataset = dataset.get_split('val')\n",
    "test_dataset = dataset.get_split('test')"
   ]
  },
  {
   "cell_type": "code",
   "execution_count": 39,
   "id": "cda5960f",
   "metadata": {},
   "outputs": [
    {
     "name": "stdout",
     "output_type": "stream",
     "text": [
      "INPUT SHAPE: torch.Size([2, 240, 300]) (cuda:0)\n",
      "TARGET SHAPE: torch.Size([240, 280]) (cuda:0)\n",
      "MASK SHAPE: torch.Size([240, 280]) (cuda:0)\n"
     ]
    }
   ],
   "source": [
    "x, y, mask = train_dataset[0]\n",
    "\n",
    "print(f'INPUT SHAPE: {x.shape} ({x.device})')\n",
    "print(f'TARGET SHAPE: {y.shape} ({x.device})')\n",
    "print(f'MASK SHAPE: {mask.shape} ({x.device})')"
   ]
  },
  {
   "cell_type": "code",
   "execution_count": null,
   "id": "6cc9a367",
   "metadata": {},
   "outputs": [],
   "source": []
  }
 ],
 "metadata": {
  "kernelspec": {
   "display_name": "Python (downscale-cpu)",
   "language": "python",
   "name": "downscale-cpu"
  },
  "language_info": {
   "codemirror_mode": {
    "name": "ipython",
    "version": 3
   },
   "file_extension": ".py",
   "mimetype": "text/x-python",
   "name": "python",
   "nbconvert_exporter": "python",
   "pygments_lexer": "ipython3",
   "version": "3.9.12"
  }
 },
 "nbformat": 4,
 "nbformat_minor": 5
}
