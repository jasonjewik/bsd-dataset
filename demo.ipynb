{
 "cells": [
  {
   "cell_type": "code",
   "execution_count": 11,
   "id": "2089bfdf",
   "metadata": {},
   "outputs": [
    {
     "name": "stdout",
     "output_type": "stream",
     "text": [
      "The autoreload extension is already loaded. To reload it, use:\n",
      "  %reload_ext autoreload\n"
     ]
    }
   ],
   "source": [
    "%load_ext autoreload\n",
    "%autoreload 2"
   ]
  },
  {
   "cell_type": "code",
   "execution_count": 12,
   "id": "6aaab62d",
   "metadata": {},
   "outputs": [],
   "source": [
    "import torch\n",
    "from bsd_dataset import get_dataset, regions, DatasetRequest"
   ]
  },
  {
   "cell_type": "code",
   "execution_count": 13,
   "id": "694e2b39",
   "metadata": {},
   "outputs": [
    {
     "name": "stdout",
     "output_type": "stream",
     "text": [
      "1\n"
     ]
    }
   ],
   "source": [
    "if torch.cuda.is_available():\n",
    "    print(torch.cuda.device_count())"
   ]
  },
  {
   "cell_type": "code",
   "execution_count": 14,
   "id": "20c2be0e",
   "metadata": {},
   "outputs": [],
   "source": [
    "input_datasets = [\n",
    "    DatasetRequest(\n",
    "        dataset='projections-cmip6',\n",
    "        model='gfdl_esm4',\n",
    "        variable='precipitation',\n",
    "    )\n",
    "]\n",
    "\n",
    "target_dataset = DatasetRequest(dataset='chirps', resolution=0.25)"
   ]
  },
  {
   "cell_type": "code",
   "execution_count": 15,
   "id": "c803c45f",
   "metadata": {},
   "outputs": [],
   "source": [
    "dataset = get_dataset(\n",
    "    input_datasets,\n",
    "    target_dataset,\n",
    "    train_region=regions.SouthAmerica,\n",
    "    val_region=regions.SouthAmerica,\n",
    "    test_region=regions.SouthAmerica,\n",
    "    train_dates=('1990-01-01', '1990-12-31'),\n",
    "    val_dates=('1991-01-01', '1991-12-31'),\n",
    "    test_dates=('1992-01-01', '1992-12-31'),\n",
    "    download=False,  # CHANGE ME (as needed)\n",
    "    extract=True,   # CHANGE ME (as needed)\n",
    "    device='cuda:0'\n",
    ")"
   ]
  },
  {
   "cell_type": "code",
   "execution_count": 16,
   "id": "8fde2c1f",
   "metadata": {},
   "outputs": [],
   "source": [
    "train_dataset = dataset.get_split('train')\n",
    "val_dataset = dataset.get_split('val')\n",
    "test_dataset = dataset.get_split('test')"
   ]
  },
  {
   "cell_type": "markdown",
   "id": "5eac7c43",
   "metadata": {},
   "source": [
    "All tensors are latitude by longitude."
   ]
  },
  {
   "cell_type": "code",
   "execution_count": 17,
   "id": "cda5960f",
   "metadata": {},
   "outputs": [
    {
     "name": "stdout",
     "output_type": "stream",
     "text": [
      "INPUT SHAPE: torch.Size([1, 75, 48]) (cuda:0)\n",
      "TARGET SHAPE: torch.Size([280, 240]) (cuda:0)\n"
     ]
    }
   ],
   "source": [
    "x, y, info = train_dataset[0]\n",
    "\n",
    "print(f'INPUT SHAPE: {x.shape} ({x.device})')\n",
    "print(f'TARGET SHAPE: {y.shape} ({x.device})')"
   ]
  },
  {
   "cell_type": "code",
   "execution_count": 18,
   "id": "174e82f9",
   "metadata": {},
   "outputs": [
    {
     "name": "stdout",
     "output_type": "stream",
     "text": [
      "INFO SUMMARY\n",
      " - x_lat shape: torch.Size([75, 48]) (cuda:0)\n",
      " - x_lon shape: torch.Size([75, 48]) (cuda:0)\n",
      " - y_lat shape: torch.Size([75, 48]) (cuda:0)\n",
      " - y_lon shape: torch.Size([75, 48]) (cuda:0)\n",
      " - y_mask shape: torch.Size([280, 240]) (cuda:0)\n"
     ]
    }
   ],
   "source": [
    "print('INFO SUMMARY')\n",
    "for k, v in info.items():\n",
    "    print(f' - {k} shape: {v.shape} ({v.device})')"
   ]
  },
  {
   "cell_type": "markdown",
   "id": "a60777e7",
   "metadata": {},
   "source": [
    "Latitudes and longitudes are provided as unnormalized. Latitudes are in the range \\[-90, 90\\], and longitudes are in the range \\[0, 360\\]. At the end are functions to perform normalization (I will eventually migrate this into the dataset itself)."
   ]
  },
  {
   "cell_type": "code",
   "execution_count": 20,
   "id": "9458d791",
   "metadata": {},
   "outputs": [
    {
     "data": {
      "text/plain": [
       "tensor([[-54.5000, -54.5000, -54.5000,  ..., -54.5000, -54.5000, -54.5000],\n",
       "        [-53.5000, -53.5000, -53.5000,  ..., -53.5000, -53.5000, -53.5000],\n",
       "        [-52.5000, -52.5000, -52.5000,  ..., -52.5000, -52.5000, -52.5000],\n",
       "        ...,\n",
       "        [ 17.5000,  17.5000,  17.5000,  ...,  17.5000,  17.5000,  17.5000],\n",
       "        [ 18.5000,  18.5000,  18.5000,  ...,  18.5000,  18.5000,  18.5000],\n",
       "        [ 19.5000,  19.5000,  19.5000,  ...,  19.5000,  19.5000,  19.5000]],\n",
       "       device='cuda:0', dtype=torch.float64)"
      ]
     },
     "execution_count": 20,
     "metadata": {},
     "output_type": "execute_result"
    }
   ],
   "source": [
    "info['x_lat']"
   ]
  },
  {
   "cell_type": "code",
   "execution_count": 21,
   "id": "c9a903e9",
   "metadata": {},
   "outputs": [
    {
     "data": {
      "text/plain": [
       "tensor([[270.6250, 271.8750, 273.1250,  ..., 326.8750, 328.1250, 329.3750],\n",
       "        [270.6250, 271.8750, 273.1250,  ..., 326.8750, 328.1250, 329.3750],\n",
       "        [270.6250, 271.8750, 273.1250,  ..., 326.8750, 328.1250, 329.3750],\n",
       "        ...,\n",
       "        [270.6250, 271.8750, 273.1250,  ..., 326.8750, 328.1250, 329.3750],\n",
       "        [270.6250, 271.8750, 273.1250,  ..., 326.8750, 328.1250, 329.3750],\n",
       "        [270.6250, 271.8750, 273.1250,  ..., 326.8750, 328.1250, 329.3750]],\n",
       "       device='cuda:0', dtype=torch.float64)"
      ]
     },
     "execution_count": 21,
     "metadata": {},
     "output_type": "execute_result"
    }
   ],
   "source": [
    "info['x_lon']"
   ]
  },
  {
   "cell_type": "code",
   "execution_count": 22,
   "id": "adf56555",
   "metadata": {},
   "outputs": [],
   "source": [
    "def normalize_latitudes(lats):\n",
    "    # Converts from the range [-90, 90] to [0, 1]\n",
    "    return (lats + 90) / 180\n",
    "\n",
    "def normalize_longitudes(lons):\n",
    "    # Converts from the range [0, 360] to [0, 1]\n",
    "    return lons / 360"
   ]
  },
  {
   "cell_type": "code",
   "execution_count": 23,
   "id": "e0d0199b",
   "metadata": {},
   "outputs": [
    {
     "data": {
      "text/plain": [
       "tensor([[0.1972, 0.1972, 0.1972,  ..., 0.1972, 0.1972, 0.1972],\n",
       "        [0.2028, 0.2028, 0.2028,  ..., 0.2028, 0.2028, 0.2028],\n",
       "        [0.2083, 0.2083, 0.2083,  ..., 0.2083, 0.2083, 0.2083],\n",
       "        ...,\n",
       "        [0.5972, 0.5972, 0.5972,  ..., 0.5972, 0.5972, 0.5972],\n",
       "        [0.6028, 0.6028, 0.6028,  ..., 0.6028, 0.6028, 0.6028],\n",
       "        [0.6083, 0.6083, 0.6083,  ..., 0.6083, 0.6083, 0.6083]],\n",
       "       device='cuda:0', dtype=torch.float64)"
      ]
     },
     "execution_count": 23,
     "metadata": {},
     "output_type": "execute_result"
    }
   ],
   "source": [
    "normalize_latitudes(info['x_lat'])"
   ]
  },
  {
   "cell_type": "code",
   "execution_count": 24,
   "id": "f5361634",
   "metadata": {},
   "outputs": [
    {
     "data": {
      "text/plain": [
       "tensor([[0.7517, 0.7552, 0.7587,  ..., 0.9080, 0.9115, 0.9149],\n",
       "        [0.7517, 0.7552, 0.7587,  ..., 0.9080, 0.9115, 0.9149],\n",
       "        [0.7517, 0.7552, 0.7587,  ..., 0.9080, 0.9115, 0.9149],\n",
       "        ...,\n",
       "        [0.7517, 0.7552, 0.7587,  ..., 0.9080, 0.9115, 0.9149],\n",
       "        [0.7517, 0.7552, 0.7587,  ..., 0.9080, 0.9115, 0.9149],\n",
       "        [0.7517, 0.7552, 0.7587,  ..., 0.9080, 0.9115, 0.9149]],\n",
       "       device='cuda:0', dtype=torch.float64)"
      ]
     },
     "execution_count": 24,
     "metadata": {},
     "output_type": "execute_result"
    }
   ],
   "source": [
    "normalize_longitudes(info['x_lon'])"
   ]
  }
 ],
 "metadata": {
  "kernelspec": {
   "display_name": "Python (downscale-cpu)",
   "language": "python",
   "name": "downscale-cpu"
  },
  "language_info": {
   "codemirror_mode": {
    "name": "ipython",
    "version": 3
   },
   "file_extension": ".py",
   "mimetype": "text/x-python",
   "name": "python",
   "nbconvert_exporter": "python",
   "pygments_lexer": "ipython3",
   "version": "3.9.12"
  }
 },
 "nbformat": 4,
 "nbformat_minor": 5
}
