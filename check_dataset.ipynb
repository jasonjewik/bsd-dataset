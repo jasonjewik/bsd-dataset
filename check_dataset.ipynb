{
 "cells": [
  {
   "cell_type": "code",
   "execution_count": 1,
   "id": "73bf2e96",
   "metadata": {},
   "outputs": [],
   "source": [
    "%load_ext autoreload\n",
    "%autoreload 2"
   ]
  },
  {
   "cell_type": "code",
   "execution_count": 2,
   "id": "b4be9260",
   "metadata": {},
   "outputs": [
    {
     "name": "stderr",
     "output_type": "stream",
     "text": [
      "/home/jason.jewik/miniconda3/envs/downscale-gpu/lib/python3.9/site-packages/tqdm/auto.py:22: TqdmWarning: IProgress not found. Please update jupyter and ipywidgets. See https://ipywidgets.readthedocs.io/en/stable/user_install.html\n",
      "  from .autonotebook import tqdm as notebook_tqdm\n"
     ]
    }
   ],
   "source": [
    "from bsd_dataset import get_dataset, regions, DatasetRequest\n",
    "import bsd_dataset.common.metrics as metrics\n",
    "import bsd_dataset.common.transforms as transforms\n",
    "from bsd_dataset.datasets.check_dataset import Interpolator\n",
    "\n",
    "import torch"
   ]
  },
  {
   "cell_type": "code",
   "execution_count": 26,
   "id": "ceedbf84",
   "metadata": {},
   "outputs": [],
   "source": [
    "variable = [\n",
    "    'daily_maximum_near_surface_air_temperature',\n",
    "    'daily_minimum_near_surface_air_temperature',\n",
    "    'near_surface_air_temperature',\n",
    "    'near_surface_specific_humidity',\n",
    "    'near_surface_wind_speed',\n",
    "    'precipitation',\n",
    "    'sea_level_pressure'\n",
    "]\n",
    "\n",
    "input_datasets = [\n",
    "    DatasetRequest(\n",
    "        dataset='projections-cmip6',\n",
    "        model='gfdl_esm4',\n",
    "        variable=variable\n",
    "    )\n",
    "]\n",
    "\n",
    "target_dataset = DatasetRequest(dataset='chirps', resolution=0.25)\n",
    "\n",
    "root = f'/home/data/BSDD/experiment-2.1'\n",
    "study_region = regions.SouthAmerica"
   ]
  },
  {
   "cell_type": "code",
   "execution_count": 27,
   "id": "4dc0049e",
   "metadata": {},
   "outputs": [],
   "source": [
    "dataset = get_dataset(\n",
    "    input_datasets,\n",
    "    target_dataset,\n",
    "    train_region=study_region,\n",
    "    val_region=study_region,\n",
    "    test_region=study_region,\n",
    "    train_dates=('1983-01-01', '2010-12-31'),\n",
    "    val_dates=('2011-01-01', '2012-12-31'),\n",
    "    test_dates=('2013-01-01', '2014-12-31'),\n",
    "    download=False,\n",
    "    extract=False, \n",
    "    root=root\n",
    ")"
   ]
  },
  {
   "cell_type": "code",
   "execution_count": 28,
   "id": "5e7e6156",
   "metadata": {},
   "outputs": [],
   "source": [
    "# In CDS, precipitation's variable name is \"pr\"\n",
    "transform = transforms.ConvertPrecipitation(var_name='pr')\n",
    "test_dataset = dataset.get_split('test', transform)"
   ]
  },
  {
   "cell_type": "code",
   "execution_count": 29,
   "id": "1c631325",
   "metadata": {},
   "outputs": [],
   "source": [
    "# Create an interpolator, which downsamples the hi-res target to the low-res input\n",
    "metrics_dict = {'rmse': metrics.rmse, 'bias': metrics.abs_bias, 'pearsons_r': metrics.pearsons_r}\n",
    "interp = Interpolator(metrics_dict)"
   ]
  },
  {
   "cell_type": "code",
   "execution_count": 45,
   "id": "f44c9a03",
   "metadata": {
    "scrolled": true
   },
   "outputs": [
    {
     "name": "stdout",
     "output_type": "stream",
     "text": [
      "Average rmse: 1.22656456369441e-06\n",
      "Average bias: 3.61650933200508e-07\n",
      "Average pearsons_r: 1.0013717412948608\n"
     ]
    }
   ],
   "source": [
    "# Then we want to see how the downsampled hi-res targets compare against the low-res inputs\n",
    "running = torch.tensor([0., 0., 0.])\n",
    "\n",
    "for i, (x, y, info) in enumerate(test_dataset):\n",
    "    xx = interp(x[5:6], y, info)\n",
    "    # channel 5 is the precipitation channel for this particular dataset\n",
    "    results = interp.eval(xx, x[5], info['y_mask'])\n",
    "    running += torch.tensor(list(results.values()))\n",
    "    \n",
    "running /= (torch.ones_like(running) * i)\n",
    "for metric_name, val in zip(metrics_dict.keys(), running.tolist()):\n",
    "    print(f'Average {metric_name}: {val}')"
   ]
  },
  {
   "cell_type": "code",
   "execution_count": 24,
   "id": "b10b9d0f",
   "metadata": {},
   "outputs": [],
   "source": [
    "import matplotlib.pyplot as plt"
   ]
  },
  {
   "cell_type": "code",
   "execution_count": 25,
   "id": "f9db185b",
   "metadata": {},
   "outputs": [
    {
     "data": {
      "text/plain": [
       "(array([[31.,  0.,  0., ...,  0.,  0.,  0.],\n",
       "        [33.,  0.,  0., ...,  0.,  0.,  0.],\n",
       "        [32.,  0.,  0., ...,  0.,  0.,  0.],\n",
       "        ...,\n",
       "        [28.,  0.,  0., ...,  0.,  0.,  0.],\n",
       "        [27.,  0.,  0., ...,  0.,  0.,  0.],\n",
       "        [29.,  0.,  0., ...,  0.,  0.,  0.]]),\n",
       " array([  0.      ,  10.490751,  20.981503,  31.472256,  41.963005,\n",
       "         52.45376 ,  62.94451 ,  73.435265,  83.92601 ,  94.41676 ,\n",
       "        104.90752 ], dtype=float32),\n",
       " <a list of 280 BarContainer objects>)"
      ]
     },
     "execution_count": 25,
     "metadata": {},
     "output_type": "execute_result"
    },
    {
     "data": {
      "image/png": "[encoded data removed]",
      "text/plain": [
       "<Figure size 432x288 with 1 Axes>"
      ]
     },
     "metadata": {
      "needs_background": "light"
     },
     "output_type": "display_data"
    }
   ],
   "source": [
    "plt.hist(y)"
   ]
  },
  {
   "cell_type": "code",
   "execution_count": null,
   "id": "a3bdfceb",
   "metadata": {},
   "outputs": [],
   "source": []
  }
 ],
 "metadata": {
  "kernelspec": {
   "display_name": "Python (downscale-gpu)",
   "language": "python",
   "name": "downscale-gpu"
  },
  "language_info": {
   "codemirror_mode": {
    "name": "ipython",
    "version": 3
   },
   "file_extension": ".py",
   "mimetype": "text/x-python",
   "name": "python",
   "nbconvert_exporter": "python",
   "pygments_lexer": "ipython3",
   "version": "3.9.12"
  }
 },
 "nbformat": 4,
 "nbformat_minor": 5
}
